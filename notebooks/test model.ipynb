{
 "cells": [
  {
   "cell_type": "code",
   "execution_count": 1,
   "id": "5dbb0491-7944-4c71-9511-8d1f3329be24",
   "metadata": {},
   "outputs": [
    {
     "name": "stdout",
     "output_type": "stream",
     "text": [
      "✅ 'new_customers.csv' created!\n"
     ]
    }
   ],
   "source": [
    "import pandas as pd\n",
    "\n",
    "# Create a small mock dataset\n",
    "new_customers = pd.DataFrame({\n",
    "    'gender': ['Female', 'Male'],\n",
    "    'SeniorCitizen': [0, 1],\n",
    "    'Partner': ['Yes', 'No'],\n",
    "    'Dependents': ['No', 'Yes'],\n",
    "    'tenure': [12, 3],\n",
    "    'PhoneService': ['Yes', 'Yes'],\n",
    "    'MultipleLines': ['No', 'Yes'],\n",
    "    'InternetService': ['DSL', 'Fiber optic'],\n",
    "    'OnlineSecurity': ['No', 'Yes'],\n",
    "    'OnlineBackup': ['Yes', 'No'],\n",
    "    'DeviceProtection': ['Yes', 'No'],\n",
    "    'TechSupport': ['No', 'Yes'],\n",
    "    'StreamingTV': ['No', 'Yes'],\n",
    "    'StreamingMovies': ['No', 'No'],\n",
    "    'Contract': ['Month-to-month', 'Two year'],\n",
    "    'PaperlessBilling': ['Yes', 'No'],\n",
    "    'PaymentMethod': ['Electronic check', 'Mailed check'],\n",
    "    'MonthlyCharges': [70.35, 95.5],\n",
    "    'TotalCharges': [845.5, 285.2]\n",
    "})\n",
    "\n",
    "# Save to CSV\n",
    "new_customers.to_csv('new_customers.csv', index=False)\n",
    "\n",
    "print(\"✅ 'new_customers.csv' created!\")\n"
   ]
  },
  {
   "cell_type": "code",
   "execution_count": 2,
   "id": "e3104dc2-e082-4ef5-a014-69a862c8b0c0",
   "metadata": {},
   "outputs": [
    {
     "name": "stdout",
     "output_type": "stream",
     "text": [
      "Transformation Pipeline and Model Successfully Loaded\n"
     ]
    },
    {
     "ename": "KeyError",
     "evalue": "\"['customerID'] not in index\"",
     "output_type": "error",
     "traceback": [
      "\u001b[0;31m---------------------------------------------------------------------------\u001b[0m",
      "\u001b[0;31mKeyError\u001b[0m                                  Traceback (most recent call last)",
      "Cell \u001b[0;32mIn[2], line 11\u001b[0m\n\u001b[1;32m      8\u001b[0m new_data \u001b[38;5;241m=\u001b[39m pd\u001b[38;5;241m.\u001b[39mread_csv(\u001b[38;5;124m'\u001b[39m\u001b[38;5;124mnew_customers.csv\u001b[39m\u001b[38;5;124m'\u001b[39m)\n\u001b[1;32m     10\u001b[0m \u001b[38;5;66;03m# Predict\u001b[39;00m\n\u001b[0;32m---> 11\u001b[0m predictions \u001b[38;5;241m=\u001b[39m \u001b[43mpredict_model\u001b[49m\u001b[43m(\u001b[49m\u001b[43mmodel\u001b[49m\u001b[43m,\u001b[49m\u001b[43m \u001b[49m\u001b[43mdata\u001b[49m\u001b[38;5;241;43m=\u001b[39;49m\u001b[43mnew_data\u001b[49m\u001b[43m)\u001b[49m\n\u001b[1;32m     13\u001b[0m \u001b[38;5;66;03m# Show predictions\u001b[39;00m\n\u001b[1;32m     14\u001b[0m predictions[[\u001b[38;5;124m'\u001b[39m\u001b[38;5;124mLabel\u001b[39m\u001b[38;5;124m'\u001b[39m, \u001b[38;5;124m'\u001b[39m\u001b[38;5;124mScore\u001b[39m\u001b[38;5;124m'\u001b[39m]]\n",
      "File \u001b[0;32m~/Documents/automl-churn-pipeline/venv310/lib/python3.10/site-packages/pycaret/classification/functional.py:2172\u001b[0m, in \u001b[0;36mpredict_model\u001b[0;34m(estimator, data, probability_threshold, encoded_labels, raw_score, round, verbose)\u001b[0m\n\u001b[1;32m   2169\u001b[0m \u001b[38;5;28;01mif\u001b[39;00m experiment \u001b[38;5;129;01mis\u001b[39;00m \u001b[38;5;28;01mNone\u001b[39;00m:\n\u001b[1;32m   2170\u001b[0m     experiment \u001b[38;5;241m=\u001b[39m _EXPERIMENT_CLASS()\n\u001b[0;32m-> 2172\u001b[0m \u001b[38;5;28;01mreturn\u001b[39;00m \u001b[43mexperiment\u001b[49m\u001b[38;5;241;43m.\u001b[39;49m\u001b[43mpredict_model\u001b[49m\u001b[43m(\u001b[49m\n\u001b[1;32m   2173\u001b[0m \u001b[43m    \u001b[49m\u001b[43mestimator\u001b[49m\u001b[38;5;241;43m=\u001b[39;49m\u001b[43mestimator\u001b[49m\u001b[43m,\u001b[49m\n\u001b[1;32m   2174\u001b[0m \u001b[43m    \u001b[49m\u001b[43mdata\u001b[49m\u001b[38;5;241;43m=\u001b[39;49m\u001b[43mdata\u001b[49m\u001b[43m,\u001b[49m\n\u001b[1;32m   2175\u001b[0m \u001b[43m    \u001b[49m\u001b[43mprobability_threshold\u001b[49m\u001b[38;5;241;43m=\u001b[39;49m\u001b[43mprobability_threshold\u001b[49m\u001b[43m,\u001b[49m\n\u001b[1;32m   2176\u001b[0m \u001b[43m    \u001b[49m\u001b[43mencoded_labels\u001b[49m\u001b[38;5;241;43m=\u001b[39;49m\u001b[43mencoded_labels\u001b[49m\u001b[43m,\u001b[49m\n\u001b[1;32m   2177\u001b[0m \u001b[43m    \u001b[49m\u001b[43mraw_score\u001b[49m\u001b[38;5;241;43m=\u001b[39;49m\u001b[43mraw_score\u001b[49m\u001b[43m,\u001b[49m\n\u001b[1;32m   2178\u001b[0m \u001b[43m    \u001b[49m\u001b[38;5;28;43mround\u001b[39;49m\u001b[38;5;241;43m=\u001b[39;49m\u001b[38;5;28;43mround\u001b[39;49m\u001b[43m,\u001b[49m\n\u001b[1;32m   2179\u001b[0m \u001b[43m    \u001b[49m\u001b[43mverbose\u001b[49m\u001b[38;5;241;43m=\u001b[39;49m\u001b[43mverbose\u001b[49m\u001b[43m,\u001b[49m\n\u001b[1;32m   2180\u001b[0m \u001b[43m\u001b[49m\u001b[43m)\u001b[49m\n",
      "File \u001b[0;32m~/Documents/automl-churn-pipeline/venv310/lib/python3.10/site-packages/pycaret/classification/oop.py:2824\u001b[0m, in \u001b[0;36mClassificationExperiment.predict_model\u001b[0;34m(self, estimator, data, probability_threshold, encoded_labels, raw_score, round, verbose)\u001b[0m\n\u001b[1;32m   2752\u001b[0m \u001b[38;5;28;01mdef\u001b[39;00m\u001b[38;5;250m \u001b[39m\u001b[38;5;21mpredict_model\u001b[39m(\n\u001b[1;32m   2753\u001b[0m     \u001b[38;5;28mself\u001b[39m,\n\u001b[1;32m   2754\u001b[0m     estimator,\n\u001b[0;32m   (...)\u001b[0m\n\u001b[1;32m   2760\u001b[0m     verbose: \u001b[38;5;28mbool\u001b[39m \u001b[38;5;241m=\u001b[39m \u001b[38;5;28;01mTrue\u001b[39;00m,\n\u001b[1;32m   2761\u001b[0m ) \u001b[38;5;241m-\u001b[39m\u001b[38;5;241m>\u001b[39m pd\u001b[38;5;241m.\u001b[39mDataFrame:\n\u001b[1;32m   2762\u001b[0m \u001b[38;5;250m    \u001b[39m\u001b[38;5;124;03m\"\"\"\u001b[39;00m\n\u001b[1;32m   2763\u001b[0m \u001b[38;5;124;03m    This function predicts ``Label`` and ``Score`` (probability of predicted\u001b[39;00m\n\u001b[1;32m   2764\u001b[0m \u001b[38;5;124;03m    class) using a trained model. When ``data`` is None, it predicts label and\u001b[39;00m\n\u001b[0;32m   (...)\u001b[0m\n\u001b[1;32m   2821\u001b[0m \n\u001b[1;32m   2822\u001b[0m \u001b[38;5;124;03m    \"\"\"\u001b[39;00m\n\u001b[0;32m-> 2824\u001b[0m     \u001b[38;5;28;01mreturn\u001b[39;00m \u001b[38;5;28;43msuper\u001b[39;49m\u001b[43m(\u001b[49m\u001b[43m)\u001b[49m\u001b[38;5;241;43m.\u001b[39;49m\u001b[43mpredict_model\u001b[49m\u001b[43m(\u001b[49m\n\u001b[1;32m   2825\u001b[0m \u001b[43m        \u001b[49m\u001b[43mestimator\u001b[49m\u001b[38;5;241;43m=\u001b[39;49m\u001b[43mestimator\u001b[49m\u001b[43m,\u001b[49m\n\u001b[1;32m   2826\u001b[0m \u001b[43m        \u001b[49m\u001b[43mdata\u001b[49m\u001b[38;5;241;43m=\u001b[39;49m\u001b[43mdata\u001b[49m\u001b[43m,\u001b[49m\n\u001b[1;32m   2827\u001b[0m \u001b[43m        \u001b[49m\u001b[43mprobability_threshold\u001b[49m\u001b[38;5;241;43m=\u001b[39;49m\u001b[43mprobability_threshold\u001b[49m\u001b[43m,\u001b[49m\n\u001b[1;32m   2828\u001b[0m \u001b[43m        \u001b[49m\u001b[43mencoded_labels\u001b[49m\u001b[38;5;241;43m=\u001b[39;49m\u001b[43mencoded_labels\u001b[49m\u001b[43m,\u001b[49m\n\u001b[1;32m   2829\u001b[0m \u001b[43m        \u001b[49m\u001b[43mraw_score\u001b[49m\u001b[38;5;241;43m=\u001b[39;49m\u001b[43mraw_score\u001b[49m\u001b[43m,\u001b[49m\n\u001b[1;32m   2830\u001b[0m \u001b[43m        \u001b[49m\u001b[38;5;28;43mround\u001b[39;49m\u001b[38;5;241;43m=\u001b[39;49m\u001b[38;5;28;43mround\u001b[39;49m\u001b[43m,\u001b[49m\n\u001b[1;32m   2831\u001b[0m \u001b[43m        \u001b[49m\u001b[43mverbose\u001b[49m\u001b[38;5;241;43m=\u001b[39;49m\u001b[43mverbose\u001b[49m\u001b[43m,\u001b[49m\n\u001b[1;32m   2832\u001b[0m \u001b[43m    \u001b[49m\u001b[43m)\u001b[49m\n",
      "File \u001b[0;32m~/Documents/automl-churn-pipeline/venv310/lib/python3.10/site-packages/pycaret/internal/pycaret_experiment/supervised_experiment.py:4960\u001b[0m, in \u001b[0;36m_SupervisedExperiment.predict_model\u001b[0;34m(self, estimator, data, probability_threshold, encoded_labels, raw_score, round, verbose, ml_usecase, preprocess)\u001b[0m\n\u001b[1;32m   4958\u001b[0m X_test_untransformed \u001b[38;5;241m=\u001b[39m data\n\u001b[1;32m   4959\u001b[0m y_test_untransformed \u001b[38;5;241m=\u001b[39m target\n\u001b[0;32m-> 4960\u001b[0m data \u001b[38;5;241m=\u001b[39m \u001b[43mdata\u001b[49m\u001b[43m[\u001b[49m\u001b[43mX_columns\u001b[49m\u001b[43m]\u001b[49m  \u001b[38;5;66;03m# Ignore all columns but the originals\u001b[39;00m\n\u001b[1;32m   4961\u001b[0m \u001b[38;5;28;01mif\u001b[39;00m preprocess:\n\u001b[1;32m   4962\u001b[0m     X_test_ \u001b[38;5;241m=\u001b[39m pipeline\u001b[38;5;241m.\u001b[39mtransform(\n\u001b[1;32m   4963\u001b[0m         X\u001b[38;5;241m=\u001b[39mdata,\n\u001b[1;32m   4964\u001b[0m         y\u001b[38;5;241m=\u001b[39m(target \u001b[38;5;28;01mif\u001b[39;00m preprocess \u001b[38;5;241m!=\u001b[39m \u001b[38;5;124m\"\u001b[39m\u001b[38;5;124mfeatures\u001b[39m\u001b[38;5;124m\"\u001b[39m \u001b[38;5;28;01melse\u001b[39;00m \u001b[38;5;28;01mNone\u001b[39;00m),\n\u001b[1;32m   4965\u001b[0m     )\n",
      "File \u001b[0;32m~/Documents/automl-churn-pipeline/venv310/lib/python3.10/site-packages/pandas/core/frame.py:3899\u001b[0m, in \u001b[0;36mDataFrame.__getitem__\u001b[0;34m(self, key)\u001b[0m\n\u001b[1;32m   3897\u001b[0m     \u001b[38;5;28;01mif\u001b[39;00m is_iterator(key):\n\u001b[1;32m   3898\u001b[0m         key \u001b[38;5;241m=\u001b[39m \u001b[38;5;28mlist\u001b[39m(key)\n\u001b[0;32m-> 3899\u001b[0m     indexer \u001b[38;5;241m=\u001b[39m \u001b[38;5;28;43mself\u001b[39;49m\u001b[38;5;241;43m.\u001b[39;49m\u001b[43mcolumns\u001b[49m\u001b[38;5;241;43m.\u001b[39;49m\u001b[43m_get_indexer_strict\u001b[49m\u001b[43m(\u001b[49m\u001b[43mkey\u001b[49m\u001b[43m,\u001b[49m\u001b[43m \u001b[49m\u001b[38;5;124;43m\"\u001b[39;49m\u001b[38;5;124;43mcolumns\u001b[39;49m\u001b[38;5;124;43m\"\u001b[39;49m\u001b[43m)\u001b[49m[\u001b[38;5;241m1\u001b[39m]\n\u001b[1;32m   3901\u001b[0m \u001b[38;5;66;03m# take() does not accept boolean indexers\u001b[39;00m\n\u001b[1;32m   3902\u001b[0m \u001b[38;5;28;01mif\u001b[39;00m \u001b[38;5;28mgetattr\u001b[39m(indexer, \u001b[38;5;124m\"\u001b[39m\u001b[38;5;124mdtype\u001b[39m\u001b[38;5;124m\"\u001b[39m, \u001b[38;5;28;01mNone\u001b[39;00m) \u001b[38;5;241m==\u001b[39m \u001b[38;5;28mbool\u001b[39m:\n",
      "File \u001b[0;32m~/Documents/automl-churn-pipeline/venv310/lib/python3.10/site-packages/pandas/core/indexes/base.py:6115\u001b[0m, in \u001b[0;36mIndex._get_indexer_strict\u001b[0;34m(self, key, axis_name)\u001b[0m\n\u001b[1;32m   6112\u001b[0m \u001b[38;5;28;01melse\u001b[39;00m:\n\u001b[1;32m   6113\u001b[0m     keyarr, indexer, new_indexer \u001b[38;5;241m=\u001b[39m \u001b[38;5;28mself\u001b[39m\u001b[38;5;241m.\u001b[39m_reindex_non_unique(keyarr)\n\u001b[0;32m-> 6115\u001b[0m \u001b[38;5;28;43mself\u001b[39;49m\u001b[38;5;241;43m.\u001b[39;49m\u001b[43m_raise_if_missing\u001b[49m\u001b[43m(\u001b[49m\u001b[43mkeyarr\u001b[49m\u001b[43m,\u001b[49m\u001b[43m \u001b[49m\u001b[43mindexer\u001b[49m\u001b[43m,\u001b[49m\u001b[43m \u001b[49m\u001b[43maxis_name\u001b[49m\u001b[43m)\u001b[49m\n\u001b[1;32m   6117\u001b[0m keyarr \u001b[38;5;241m=\u001b[39m \u001b[38;5;28mself\u001b[39m\u001b[38;5;241m.\u001b[39mtake(indexer)\n\u001b[1;32m   6118\u001b[0m \u001b[38;5;28;01mif\u001b[39;00m \u001b[38;5;28misinstance\u001b[39m(key, Index):\n\u001b[1;32m   6119\u001b[0m     \u001b[38;5;66;03m# GH 42790 - Preserve name from an Index\u001b[39;00m\n",
      "File \u001b[0;32m~/Documents/automl-churn-pipeline/venv310/lib/python3.10/site-packages/pandas/core/indexes/base.py:6179\u001b[0m, in \u001b[0;36mIndex._raise_if_missing\u001b[0;34m(self, key, indexer, axis_name)\u001b[0m\n\u001b[1;32m   6176\u001b[0m     \u001b[38;5;28;01mraise\u001b[39;00m \u001b[38;5;167;01mKeyError\u001b[39;00m(\u001b[38;5;124mf\u001b[39m\u001b[38;5;124m\"\u001b[39m\u001b[38;5;124mNone of [\u001b[39m\u001b[38;5;132;01m{\u001b[39;00mkey\u001b[38;5;132;01m}\u001b[39;00m\u001b[38;5;124m] are in the [\u001b[39m\u001b[38;5;132;01m{\u001b[39;00maxis_name\u001b[38;5;132;01m}\u001b[39;00m\u001b[38;5;124m]\u001b[39m\u001b[38;5;124m\"\u001b[39m)\n\u001b[1;32m   6178\u001b[0m not_found \u001b[38;5;241m=\u001b[39m \u001b[38;5;28mlist\u001b[39m(ensure_index(key)[missing_mask\u001b[38;5;241m.\u001b[39mnonzero()[\u001b[38;5;241m0\u001b[39m]]\u001b[38;5;241m.\u001b[39munique())\n\u001b[0;32m-> 6179\u001b[0m \u001b[38;5;28;01mraise\u001b[39;00m \u001b[38;5;167;01mKeyError\u001b[39;00m(\u001b[38;5;124mf\u001b[39m\u001b[38;5;124m\"\u001b[39m\u001b[38;5;132;01m{\u001b[39;00mnot_found\u001b[38;5;132;01m}\u001b[39;00m\u001b[38;5;124m not in index\u001b[39m\u001b[38;5;124m\"\u001b[39m)\n",
      "\u001b[0;31mKeyError\u001b[0m: \"['customerID'] not in index\""
     ]
    }
   ],
   "source": [
    "from pycaret.classification import load_model, predict_model\n",
    "import pandas as pd\n",
    "\n",
    "# Load the model\n",
    "model = load_model('best_churn_model')\n",
    "\n",
    "# Load new data\n",
    "new_data = pd.read_csv('new_customers.csv')\n",
    "\n",
    "# Predict\n",
    "predictions = predict_model(model, data=new_data)\n",
    "\n",
    "# Show predictions\n",
    "predictions[['Label', 'Score']]\n"
   ]
  },
  {
   "cell_type": "code",
   "execution_count": 3,
   "id": "6da00808-c9b1-44a9-a7cf-45d7e9e56d7f",
   "metadata": {},
   "outputs": [],
   "source": [
    "import pandas as pd\n",
    "\n",
    "# Create mock dataset with customerID\n",
    "new_customers = pd.DataFrame({\n",
    "    'customerID': ['0001-A', '0002-B'],\n",
    "    'gender': ['Female', 'Male'],\n",
    "    'SeniorCitizen': [0, 1],\n",
    "    'Partner': ['Yes', 'No'],\n",
    "    'Dependents': ['No', 'Yes'],\n",
    "    'tenure': [12, 3],\n",
    "    'PhoneService': ['Yes', 'Yes'],\n",
    "    'MultipleLines': ['No', 'Yes'],\n",
    "    'InternetService': ['DSL', 'Fiber optic'],\n",
    "    'OnlineSecurity': ['No', 'Yes'],\n",
    "    'OnlineBackup': ['Yes', 'No'],\n",
    "    'DeviceProtection': ['Yes', 'No'],\n",
    "    'TechSupport': ['No', 'Yes'],\n",
    "    'StreamingTV': ['No', 'Yes'],\n",
    "    'StreamingMovies': ['No', 'No'],\n",
    "    'Contract': ['Month-to-month', 'Two year'],\n",
    "    'PaperlessBilling': ['Yes', 'No'],\n",
    "    'PaymentMethod': ['Electronic check', 'Mailed check'],\n",
    "    'MonthlyCharges': [70.35, 95.5],\n",
    "    'TotalCharges': [845.5, 285.2]\n",
    "})\n",
    "\n",
    "# Save it\n",
    "new_customers.to_csv('new_customers.csv', index=False)\n"
   ]
  },
  {
   "cell_type": "code",
   "execution_count": 4,
   "id": "626e12bb-e2cd-4d32-bb6e-20301a490441",
   "metadata": {},
   "outputs": [
    {
     "name": "stdout",
     "output_type": "stream",
     "text": [
      "Transformation Pipeline and Model Successfully Loaded\n"
     ]
    },
    {
     "ename": "KeyError",
     "evalue": "\"None of [Index(['Label', 'Score'], dtype='object')] are in the [columns]\"",
     "output_type": "error",
     "traceback": [
      "\u001b[0;31m---------------------------------------------------------------------------\u001b[0m",
      "\u001b[0;31mKeyError\u001b[0m                                  Traceback (most recent call last)",
      "Cell \u001b[0;32mIn[4], line 14\u001b[0m\n\u001b[1;32m     11\u001b[0m predictions \u001b[38;5;241m=\u001b[39m predict_model(model, data\u001b[38;5;241m=\u001b[39mnew_data)\n\u001b[1;32m     13\u001b[0m \u001b[38;5;66;03m# Show predictions\u001b[39;00m\n\u001b[0;32m---> 14\u001b[0m \u001b[43mpredictions\u001b[49m\u001b[43m[\u001b[49m\u001b[43m[\u001b[49m\u001b[38;5;124;43m'\u001b[39;49m\u001b[38;5;124;43mLabel\u001b[39;49m\u001b[38;5;124;43m'\u001b[39;49m\u001b[43m,\u001b[49m\u001b[43m \u001b[49m\u001b[38;5;124;43m'\u001b[39;49m\u001b[38;5;124;43mScore\u001b[39;49m\u001b[38;5;124;43m'\u001b[39;49m\u001b[43m]\u001b[49m\u001b[43m]\u001b[49m\n",
      "File \u001b[0;32m~/Documents/automl-churn-pipeline/venv310/lib/python3.10/site-packages/pandas/core/frame.py:3899\u001b[0m, in \u001b[0;36mDataFrame.__getitem__\u001b[0;34m(self, key)\u001b[0m\n\u001b[1;32m   3897\u001b[0m     \u001b[38;5;28;01mif\u001b[39;00m is_iterator(key):\n\u001b[1;32m   3898\u001b[0m         key \u001b[38;5;241m=\u001b[39m \u001b[38;5;28mlist\u001b[39m(key)\n\u001b[0;32m-> 3899\u001b[0m     indexer \u001b[38;5;241m=\u001b[39m \u001b[38;5;28;43mself\u001b[39;49m\u001b[38;5;241;43m.\u001b[39;49m\u001b[43mcolumns\u001b[49m\u001b[38;5;241;43m.\u001b[39;49m\u001b[43m_get_indexer_strict\u001b[49m\u001b[43m(\u001b[49m\u001b[43mkey\u001b[49m\u001b[43m,\u001b[49m\u001b[43m \u001b[49m\u001b[38;5;124;43m\"\u001b[39;49m\u001b[38;5;124;43mcolumns\u001b[39;49m\u001b[38;5;124;43m\"\u001b[39;49m\u001b[43m)\u001b[49m[\u001b[38;5;241m1\u001b[39m]\n\u001b[1;32m   3901\u001b[0m \u001b[38;5;66;03m# take() does not accept boolean indexers\u001b[39;00m\n\u001b[1;32m   3902\u001b[0m \u001b[38;5;28;01mif\u001b[39;00m \u001b[38;5;28mgetattr\u001b[39m(indexer, \u001b[38;5;124m\"\u001b[39m\u001b[38;5;124mdtype\u001b[39m\u001b[38;5;124m\"\u001b[39m, \u001b[38;5;28;01mNone\u001b[39;00m) \u001b[38;5;241m==\u001b[39m \u001b[38;5;28mbool\u001b[39m:\n",
      "File \u001b[0;32m~/Documents/automl-churn-pipeline/venv310/lib/python3.10/site-packages/pandas/core/indexes/base.py:6115\u001b[0m, in \u001b[0;36mIndex._get_indexer_strict\u001b[0;34m(self, key, axis_name)\u001b[0m\n\u001b[1;32m   6112\u001b[0m \u001b[38;5;28;01melse\u001b[39;00m:\n\u001b[1;32m   6113\u001b[0m     keyarr, indexer, new_indexer \u001b[38;5;241m=\u001b[39m \u001b[38;5;28mself\u001b[39m\u001b[38;5;241m.\u001b[39m_reindex_non_unique(keyarr)\n\u001b[0;32m-> 6115\u001b[0m \u001b[38;5;28;43mself\u001b[39;49m\u001b[38;5;241;43m.\u001b[39;49m\u001b[43m_raise_if_missing\u001b[49m\u001b[43m(\u001b[49m\u001b[43mkeyarr\u001b[49m\u001b[43m,\u001b[49m\u001b[43m \u001b[49m\u001b[43mindexer\u001b[49m\u001b[43m,\u001b[49m\u001b[43m \u001b[49m\u001b[43maxis_name\u001b[49m\u001b[43m)\u001b[49m\n\u001b[1;32m   6117\u001b[0m keyarr \u001b[38;5;241m=\u001b[39m \u001b[38;5;28mself\u001b[39m\u001b[38;5;241m.\u001b[39mtake(indexer)\n\u001b[1;32m   6118\u001b[0m \u001b[38;5;28;01mif\u001b[39;00m \u001b[38;5;28misinstance\u001b[39m(key, Index):\n\u001b[1;32m   6119\u001b[0m     \u001b[38;5;66;03m# GH 42790 - Preserve name from an Index\u001b[39;00m\n",
      "File \u001b[0;32m~/Documents/automl-churn-pipeline/venv310/lib/python3.10/site-packages/pandas/core/indexes/base.py:6176\u001b[0m, in \u001b[0;36mIndex._raise_if_missing\u001b[0;34m(self, key, indexer, axis_name)\u001b[0m\n\u001b[1;32m   6174\u001b[0m     \u001b[38;5;28;01mif\u001b[39;00m use_interval_msg:\n\u001b[1;32m   6175\u001b[0m         key \u001b[38;5;241m=\u001b[39m \u001b[38;5;28mlist\u001b[39m(key)\n\u001b[0;32m-> 6176\u001b[0m     \u001b[38;5;28;01mraise\u001b[39;00m \u001b[38;5;167;01mKeyError\u001b[39;00m(\u001b[38;5;124mf\u001b[39m\u001b[38;5;124m\"\u001b[39m\u001b[38;5;124mNone of [\u001b[39m\u001b[38;5;132;01m{\u001b[39;00mkey\u001b[38;5;132;01m}\u001b[39;00m\u001b[38;5;124m] are in the [\u001b[39m\u001b[38;5;132;01m{\u001b[39;00maxis_name\u001b[38;5;132;01m}\u001b[39;00m\u001b[38;5;124m]\u001b[39m\u001b[38;5;124m\"\u001b[39m)\n\u001b[1;32m   6178\u001b[0m not_found \u001b[38;5;241m=\u001b[39m \u001b[38;5;28mlist\u001b[39m(ensure_index(key)[missing_mask\u001b[38;5;241m.\u001b[39mnonzero()[\u001b[38;5;241m0\u001b[39m]]\u001b[38;5;241m.\u001b[39munique())\n\u001b[1;32m   6179\u001b[0m \u001b[38;5;28;01mraise\u001b[39;00m \u001b[38;5;167;01mKeyError\u001b[39;00m(\u001b[38;5;124mf\u001b[39m\u001b[38;5;124m\"\u001b[39m\u001b[38;5;132;01m{\u001b[39;00mnot_found\u001b[38;5;132;01m}\u001b[39;00m\u001b[38;5;124m not in index\u001b[39m\u001b[38;5;124m\"\u001b[39m)\n",
      "\u001b[0;31mKeyError\u001b[0m: \"None of [Index(['Label', 'Score'], dtype='object')] are in the [columns]\""
     ]
    }
   ],
   "source": [
    "from pycaret.classification import load_model, predict_model\n",
    "import pandas as pd\n",
    "\n",
    "# Load the model\n",
    "model = load_model('best_churn_model')\n",
    "\n",
    "# Load new data\n",
    "new_data = pd.read_csv('new_customers.csv')\n",
    "\n",
    "# Predict\n",
    "predictions = predict_model(model, data=new_data)\n",
    "\n",
    "# Show predictions\n",
    "predictions[['Label', 'Score']]\n"
   ]
  },
  {
   "cell_type": "code",
   "execution_count": 5,
   "id": "a8e6fd38-b5ae-4cb0-b7fb-7ae39db607ec",
   "metadata": {},
   "outputs": [
    {
     "name": "stdout",
     "output_type": "stream",
     "text": [
      "Transformation Pipeline and Model Successfully Loaded\n",
      "Columns in predictions: ['customerID', 'gender', 'SeniorCitizen', 'Partner', 'Dependents', 'tenure', 'PhoneService', 'MultipleLines', 'InternetService', 'OnlineSecurity', 'OnlineBackup', 'DeviceProtection', 'TechSupport', 'StreamingTV', 'StreamingMovies', 'Contract', 'PaperlessBilling', 'PaymentMethod', 'MonthlyCharges', 'TotalCharges', 'prediction_label', 'prediction_score']\n",
      "  customerID  gender  SeniorCitizen Partner Dependents  tenure PhoneService  \\\n",
      "0     0001-A  Female              0     Yes         No      12          Yes   \n",
      "1     0002-B    Male              1      No        Yes       3          Yes   \n",
      "\n",
      "  MultipleLines InternetService OnlineSecurity  ... TechSupport StreamingTV  \\\n",
      "0            No             DSL             No  ...          No          No   \n",
      "1           Yes     Fiber optic            Yes  ...         Yes         Yes   \n",
      "\n",
      "  StreamingMovies        Contract PaperlessBilling     PaymentMethod  \\\n",
      "0              No  Month-to-month              Yes  Electronic check   \n",
      "1              No        Two year               No      Mailed check   \n",
      "\n",
      "  MonthlyCharges TotalCharges  prediction_label  prediction_score  \n",
      "0      70.349998   845.500000                No               1.0  \n",
      "1      95.500000   285.200012                No               0.8  \n",
      "\n",
      "[2 rows x 22 columns]\n"
     ]
    }
   ],
   "source": [
    "from pycaret.classification import load_model, predict_model\n",
    "import pandas as pd\n",
    "\n",
    "# Load model\n",
    "model = load_model('best_churn_model')\n",
    "\n",
    "# Load new customer data\n",
    "new_data = pd.read_csv('new_customers.csv')\n",
    "\n",
    "# Predict\n",
    "predictions = predict_model(model, data=new_data)\n",
    "\n",
    "# Show all column names\n",
    "print(\"Columns in predictions:\", predictions.columns.tolist())\n",
    "\n",
    "# See output\n",
    "print(predictions.head())\n"
   ]
  },
  {
   "cell_type": "code",
   "execution_count": 6,
   "id": "a26c1c7c-bd6e-470c-b244-4f634f27ba63",
   "metadata": {},
   "outputs": [],
   "source": [
    "predictions.to_csv(\"churn_predictions.csv\", index=False)\n"
   ]
  },
  {
   "cell_type": "code",
   "execution_count": 7,
   "id": "de15c0c9-36f0-4b80-bf43-a0da7eb73519",
   "metadata": {},
   "outputs": [
    {
     "data": {
      "text/plain": [
       "prediction_label\n",
       "No    2\n",
       "Name: count, dtype: int64"
      ]
     },
     "execution_count": 7,
     "metadata": {},
     "output_type": "execute_result"
    }
   ],
   "source": [
    "# Count how many customers are predicted to churn\n",
    "predictions['prediction_label'].value_counts()\n"
   ]
  },
  {
   "cell_type": "code",
   "execution_count": 8,
   "id": "2039ed58-0367-4f2d-81b2-d677c174a528",
   "metadata": {},
   "outputs": [
    {
     "data": {
      "image/png": "[encoded data removed]",
      "text/plain": [
       "<Figure size 800x550 with 1 Axes>"
      ]
     },
     "metadata": {},
     "output_type": "display_data"
    }
   ],
   "source": [
    "import seaborn as sns\n",
    "import matplotlib.pyplot as plt\n",
    "\n",
    "sns.histplot(predictions['prediction_score'], bins=20, kde=True)\n",
    "plt.title(\"Churn Prediction Score Distribution\")\n",
    "plt.xlabel(\"Probability of Churn\")\n",
    "plt.ylabel(\"Number of Customers\")\n",
    "plt.show()\n"
   ]
  },
  {
   "cell_type": "code",
   "execution_count": 9,
   "id": "78868329-18b4-46db-8244-9ee9f19d855e",
   "metadata": {},
   "outputs": [
    {
     "name": "stdout",
     "output_type": "stream",
     "text": [
      "Saved 2 high-risk customers to high_risk_customers.csv\n"
     ]
    }
   ],
   "source": [
    "high_risk = predictions[predictions['prediction_score'] > 0.7]\n",
    "high_risk.to_csv(\"high_risk_customers.csv\", index=False)\n",
    "print(f\"Saved {len(high_risk)} high-risk customers to high_risk_customers.csv\")\n"
   ]
  },
  {
   "cell_type": "code",
   "execution_count": null,
   "id": "2850b783-264a-434b-be2e-da75cf63edea",
   "metadata": {},
   "outputs": [],
   "source": []
  }
 ],
 "metadata": {
  "kernelspec": {
   "display_name": "Python 3 (ipykernel)",
   "language": "python",
   "name": "python3"
  },
  "language_info": {
   "codemirror_mode": {
    "name": "ipython",
    "version": 3
   },
   "file_extension": ".py",
   "mimetype": "text/x-python",
   "name": "python",
   "nbconvert_exporter": "python",
   "pygments_lexer": "ipython3",
   "version": "3.10.18"
  }
 },
 "nbformat": 4,
 "nbformat_minor": 5
}
